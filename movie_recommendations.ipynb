{
 "cells": [
  {
   "cell_type": "code",
   "execution_count": 90,
   "id": "9080e734-0c11-45e7-b4ac-64d2109375af",
   "metadata": {},
   "outputs": [],
   "source": [
    "import pandas as pd\n",
    "# data sets taken from https://files.grouplens.org/datasets/movielens/ml-25m.zip\n",
    "movies = pd.read_csv(\"movies.csv\")"
   ]
  },
  {
   "cell_type": "code",
   "execution_count": 91,
   "id": "c559c565-8eda-4858-8006-728a9a1738e9",
   "metadata": {},
   "outputs": [],
   "source": [
    "# we do have lots of special character in the movie title\n",
    "# when we search for movie we don't usually add any special character\n",
    "# let us remove those and have a separate column named clean_title for that\n",
    "import re\n",
    "\n",
    "def clean_title(title):\n",
    "    title = re.sub(\"[^a-zA-Z0-9 ]\", \"\", title)\n",
    "    return title"
   ]
  },
  {
   "cell_type": "code",
   "execution_count": 92,
   "id": "5de95296-51fa-4983-97b7-8719d38bc698",
   "metadata": {},
   "outputs": [],
   "source": [
    "# this will add another colum in our movies dataset\n",
    "movies[\"clean_title\"] = movies[\"title\"].apply(clean_title)"
   ]
  },
  {
   "cell_type": "code",
   "execution_count": 93,
   "id": "db397894-298f-4a7b-9b8e-790e23138a51",
   "metadata": {},
   "outputs": [],
   "source": [
    "# now that our movies dataset is ready let's start processing them\n",
    "# first, get the tfidf matrix based on our dataset\n",
    "# we need to install scikit-learn scipy matplotlib these modules\n",
    "# pip3 install -U scikit-learn scipy matplotlib\n",
    "# pip install -U scikit-learn scipy matplotlib\n",
    "\n",
    "from sklearn.feature_extraction.text import TfidfVectorizer\n",
    "# we will use unigram and bigram for search criteria\n",
    "vectorizer = TfidfVectorizer(ngram_range=(1,2))\n",
    "\n",
    "# let us fit and transform our data based on clean_title\n",
    "tfidf_matrix = vectorizer.fit_transform(movies[\"clean_title\"])"
   ]
  },
  {
   "cell_type": "code",
   "execution_count": 94,
   "id": "d4b39a12-8bc2-4708-a4d1-8d0d1acbcc00",
   "metadata": {},
   "outputs": [],
   "source": [
    "from sklearn.metrics.pairwise import cosine_similarity\n",
    "import numpy as np\n",
    "\n",
    "# this method utilizes cosine similarity to understand how similar or different the search team is\n",
    "def search_movie(title, num_results):\n",
    "    title = clean_title(title)\n",
    "    query_vec = vectorizer.transform([title])\n",
    "    similarity = cosine_similarity(query_vec, tfidf_matrix).flatten()\n",
    "    indices = np.argpartition(similarity, -num_results)[-num_results:]\n",
    "    results = movies.iloc[indices].iloc[::-1]\n",
    "    \n",
    "    return results"
   ]
  },
  {
   "cell_type": "code",
   "execution_count": 97,
   "id": "a515e0f0-5fe8-4bf4-b12d-3a25f8242b22",
   "metadata": {},
   "outputs": [
    {
     "data": {
      "application/vnd.jupyter.widget-view+json": {
       "model_id": "25f7b394fa1a4f6c85469172e16a8023",
       "version_major": 2,
       "version_minor": 0
      },
      "text/plain": [
       "Text(value='Toy Story', description='Movie Title:')"
      ]
     },
     "metadata": {},
     "output_type": "display_data"
    },
    {
     "data": {
      "application/vnd.jupyter.widget-view+json": {
       "model_id": "ab3f2eabb7ea44ea9e79d6c002d1149c",
       "version_major": 2,
       "version_minor": 0
      },
      "text/plain": [
       "Output()"
      ]
     },
     "metadata": {},
     "output_type": "display_data"
    }
   ],
   "source": [
    "# for ui rendering purposes inside jupyterlab\n",
    "# pip install ipywidgets\n",
    "# jupyter labextension install @jupyter-widgets/jupyterlab-manager\n",
    "\n",
    "import ipywidgets as widgets\n",
    "from IPython.display import display\n",
    "\n",
    "movie_input = widgets.Text(\n",
    "    value='Toy Story',\n",
    "    description='Movie Title:',\n",
    "    disabled=False\n",
    ")\n",
    "movie_list = widgets.Output()\n",
    "\n",
    "def on_type(data):\n",
    "    with movie_list:\n",
    "        movie_list.clear_output()\n",
    "        title = data[\"new\"]\n",
    "        if len(title) > 5:\n",
    "            display(search_movie(title, 5))\n",
    "\n",
    "movie_input.observe(on_type, names='value')\n",
    "\n",
    "\n",
    "display(movie_input, movie_list)"
   ]
  },
  {
   "cell_type": "code",
   "execution_count": 98,
   "id": "8bff83ec-c070-4a94-b8a7-097a90590634",
   "metadata": {},
   "outputs": [],
   "source": [
    "ratings = pd.read_csv(\"ratings.csv\")"
   ]
  },
  {
   "cell_type": "code",
   "execution_count": 99,
   "id": "87827a95-5f95-42b8-975e-ff08bcabba88",
   "metadata": {},
   "outputs": [],
   "source": [
    "def find_similar_movies(movie_id):\n",
    "    # Get ratings of similar users who rated the movie we are searching highly\n",
    "    similar_users = ratings[(ratings[\"movieId\"] == movie_id) & (ratings[\"rating\"] > 4)][\"userId\"].unique()\n",
    "\n",
    "    # Get recommended movies by similar users based on what those users rated highly to other movies\n",
    "    similar_user_recs = ratings[(ratings[\"userId\"].isin(similar_users)) & (ratings[\"rating\"] > 4)][\"movieId\"]\n",
    "    similar_user_recs = similar_user_recs.value_counts() / len(similar_users)\n",
    "\n",
    "    # Filter recommended movies by popularity\n",
    "    similar_user_recs = similar_user_recs[similar_user_recs > .10]\n",
    "\n",
    "    # Get all ratings of users who rated recommended movies highly\n",
    "    all_users = ratings[(ratings[\"movieId\"].isin(similar_user_recs.index)) & (ratings[\"rating\"] > 4)]\n",
    "    \n",
    "    # Calculate movie recommendations percentage based on all users\n",
    "    all_user_recs = all_users[\"movieId\"].value_counts() / len(all_users[\"userId\"].unique())\n",
    "\n",
    "    # Combine similar user and all user recommendations\n",
    "    rec_percentages = pd.concat([similar_user_recs, all_user_recs], axis=1)\n",
    "    rec_percentages.columns = [\"similar\", \"all\"]\n",
    "\n",
    "    # Calculate a score based on the percentage of similar user recommendations\n",
    "    rec_percentages[\"score\"] = rec_percentages[\"similar\"] / rec_percentages[\"all\"]\n",
    "    # Sort movies based on the score in descending order\n",
    "    rec_percentages = rec_percentages.sort_values(\"score\", ascending=False)\n",
    "    # Merge movie details and return the top 10 movie recommendations\n",
    "    return rec_percentages.head(10).merge(movies, left_index=True, right_on=\"movieId\")[[\"score\", \"title\", \"genres\"]]"
   ]
  },
  {
   "cell_type": "code",
   "execution_count": 100,
   "id": "556fe392-6a52-4c40-a129-036b4e4435a0",
   "metadata": {},
   "outputs": [
    {
     "data": {
      "application/vnd.jupyter.widget-view+json": {
       "model_id": "ef5b40971ab443249085d2cb7c12fb21",
       "version_major": 2,
       "version_minor": 0
      },
      "text/plain": [
       "Text(value='Toy Story', description='Movie Title:')"
      ]
     },
     "metadata": {},
     "output_type": "display_data"
    },
    {
     "data": {
      "application/vnd.jupyter.widget-view+json": {
       "model_id": "ec926c9cb478448db5593c09b135d79a",
       "version_major": 2,
       "version_minor": 0
      },
      "text/plain": [
       "Output()"
      ]
     },
     "metadata": {},
     "output_type": "display_data"
    }
   ],
   "source": [
    "import ipywidgets as widgets\n",
    "from IPython.display import display\n",
    "\n",
    "movie_name_input = widgets.Text(\n",
    "    value='Toy Story',\n",
    "    description='Movie Title:',\n",
    "    disabled=False\n",
    ")\n",
    "recommendation_list = widgets.Output()\n",
    "\n",
    "def on_type(data):\n",
    "    with recommendation_list:\n",
    "        recommendation_list.clear_output()\n",
    "        title = data[\"new\"]\n",
    "        if len(title) > 5:\n",
    "            results = search_movie(title, 5)\n",
    "            movie_id = results.iloc[0][\"movieId\"]\n",
    "            display(find_similar_movies(movie_id))\n",
    "\n",
    "movie_name_input.observe(on_type, names='value')\n",
    "\n",
    "display(movie_name_input, recommendation_list)"
   ]
  },
  {
   "cell_type": "code",
   "execution_count": null,
   "id": "9d507793-eef0-4422-811d-34e6287b9eca",
   "metadata": {},
   "outputs": [],
   "source": []
  }
 ],
 "metadata": {
  "kernelspec": {
   "display_name": "Python 3 (ipykernel)",
   "language": "python",
   "name": "python3"
  },
  "language_info": {
   "codemirror_mode": {
    "name": "ipython",
    "version": 3
   },
   "file_extension": ".py",
   "mimetype": "text/x-python",
   "name": "python",
   "nbconvert_exporter": "python",
   "pygments_lexer": "ipython3",
   "version": "3.11.4"
  }
 },
 "nbformat": 4,
 "nbformat_minor": 5
}
